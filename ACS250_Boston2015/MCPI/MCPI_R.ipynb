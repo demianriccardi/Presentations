{
 "cells": [
  {
   "cell_type": "markdown",
   "metadata": {},
   "source": [
    "# Let's use R!"
   ]
  },
  {
   "cell_type": "code",
   "execution_count": 10,
   "metadata": {
    "collapsed": false
   },
   "outputs": [
    {
     "name": "stdout",
     "output_type": "stream",
     "text": [
      "   user  system elapsed \n",
      " 10.053   0.041  10.126 \n",
      "[1] 3.141232\n"
     ]
    }
   ],
   "source": [
    "#start the clock\n",
    "ptm <- proc.time()\n",
    "\n",
    "count       = 0\n",
    "runs        = 1000\n",
    "veclength   = 100000\n",
    "\n",
    "for (i in 1:runs){\n",
    "    x <- runif(veclength,0,1)\n",
    "    y <- runif(veclength,0,1)\n",
    "    count = count + sum((x*x+y*y) > 1)\n",
    "}\n",
    "\n",
    "total = runs*veclength\n",
    "print (proc.time() - ptm)\n",
    "print (4*(1-count/total))"
   ]
  },
  {
   "cell_type": "code",
   "execution_count": null,
   "metadata": {
    "collapsed": true
   },
   "outputs": [],
   "source": []
  }
 ],
 "metadata": {
  "kernelspec": {
   "display_name": "R",
   "language": "R",
   "name": "ir"
  },
  "language_info": {
   "codemirror_mode": "r",
   "file_extension": ".r",
   "mimetype": "text/x-r-source",
   "name": "R",
   "pygments_lexer": "r",
   "version": "3.2.0"
  }
 },
 "nbformat": 4,
 "nbformat_minor": 0
}

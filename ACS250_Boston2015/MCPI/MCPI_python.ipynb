{
 "cells": [
  {
   "cell_type": "code",
   "execution_count": 1,
   "metadata": {
    "collapsed": false,
    "scrolled": true
   },
   "outputs": [
    {
     "name": "stdout",
     "output_type": "stream",
     "text": [
      "Time:   41.6991779804 s\n",
      "Pi:    3.14131704\n",
      "Runs:   100000000\n"
     ]
    }
   ],
   "source": [
    "from random import random\n",
    "from math import pow, sqrt\n",
    "import time\n",
    "start_time = time.time()\n",
    "\n",
    "\n",
    "runs  = 1E8\n",
    "count = 0\n",
    "for i in range (1, int(runs)):\n",
    "    x = random()\n",
    "    y = random()\n",
    "    if ( x*x +y*y > 1.0):\n",
    "        count = count + 1\n",
    "        \n",
    "pi = 4.0 * (1-float(count)/runs)\n",
    "print(\"Time:   %s s\" % (time.time() - start_time))\n",
    "print(\"Pi:    %10.8f\" %  (pi))\n",
    "print(\"Runs:   %i\" % runs)"
   ]
  },
  {
   "cell_type": "markdown",
   "metadata": {},
   "source": [
    "### You can run Perl in another cell!"
   ]
  },
  {
   "cell_type": "code",
   "execution_count": 3,
   "metadata": {
    "collapsed": false
   },
   "outputs": [
    {
     "name": "stdout",
     "output_type": "stream",
     "text": [
      "Pi: 3.14153960\n",
      "Time: 27.47\n"
     ]
    }
   ],
   "source": [
    "%%perl\n",
    "\n",
    "use Time::HiRes qw(time);\n",
    "\n",
    "my $t1 = time;\n",
    "my $runs  = 1E8;\n",
    "my ($a,$b);\n",
    "my $count = 0;\n",
    "    \n",
    "foreach my $i (1 .. $runs){\n",
    "    ($a,$b) = (rand,rand);\n",
    "    $count += 1 if (($a*$a + $b*$b) > 1);\n",
    "}\n",
    "\n",
    "printf(\"Pi: %10.8f\\n\", 4*(1-$count/$runs) );\n",
    "printf(\"Time: %.2f\\n\", time - $t1);"
   ]
  },
  {
   "cell_type": "code",
   "execution_count": null,
   "metadata": {
    "collapsed": true
   },
   "outputs": [],
   "source": []
  }
 ],
 "metadata": {
  "kernelspec": {
   "display_name": "Python 2",
   "language": "python",
   "name": "python2"
  },
  "language_info": {
   "codemirror_mode": {
    "name": "ipython",
    "version": 2
   },
   "file_extension": ".py",
   "mimetype": "text/x-python",
   "name": "python",
   "nbconvert_exporter": "python",
   "pygments_lexer": "ipython2",
   "version": "2.7.10"
  }
 },
 "nbformat": 4,
 "nbformat_minor": 0
}
